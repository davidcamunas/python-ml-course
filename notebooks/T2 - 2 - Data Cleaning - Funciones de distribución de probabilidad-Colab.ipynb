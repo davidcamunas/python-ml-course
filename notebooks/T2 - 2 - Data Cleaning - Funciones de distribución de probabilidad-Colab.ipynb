{
 "cells": [
  {
   "cell_type": "markdown",
   "metadata": {
    "colab_type": "text",
    "id": "view-in-github"
   },
   "source": [
    "<a href=\"https://colab.research.google.com/github/joanby/python-ml-course/blob/Collab---v-3.8/notebooks/T2%20-%202%20-%20Data%20Cleaning%20-%20Funciones%20de%20distribuci%C3%B3n%20de%20probabilidad.ipynb\" target=\"_parent\"><img src=\"https://colab.research.google.com/assets/colab-badge.svg\" alt=\"Open In Colab\"/></a>"
   ]
  },
  {
   "cell_type": "markdown",
   "metadata": {
    "colab_type": "text",
    "id": "76tSTLpx_6tj"
   },
   "source": [
    "# Funciones de distribución de probabilidades\n",
    "## Distribución Uniforme"
   ]
  },
  {
   "cell_type": "code",
   "execution_count": 4,
   "metadata": {
    "colab": {
     "base_uri": "https://localhost:8080/",
     "height": 122
    },
    "colab_type": "code",
    "id": "tOrouqly_9oY",
    "outputId": "dfe35705-3b1a-452c-de31-3b8025787095"
   },
   "outputs": [
    {
     "ename": "ModuleNotFoundError",
     "evalue": "No module named 'google.colab'",
     "output_type": "error",
     "traceback": [
      "\u001b[0;31m---------------------------------------------------------------------------\u001b[0m",
      "\u001b[0;31mModuleNotFoundError\u001b[0m                       Traceback (most recent call last)",
      "\u001b[1;32m/home/david/code/mio/python-ml-course/notebooks/T2 - 2 - Data Cleaning - Funciones de distribución de probabilidad-Colab.ipynb Cell 3\u001b[0m in \u001b[0;36m<cell line: 1>\u001b[0;34m()\u001b[0m\n\u001b[0;32m----> <a href='vscode-notebook-cell:/home/david/code/mio/python-ml-course/notebooks/T2%20-%202%20-%20Data%20Cleaning%20-%20Funciones%20de%20distribuci%C3%B3n%20de%20probabilidad-Colab.ipynb#ch0000002?line=0'>1</a>\u001b[0m \u001b[39mfrom\u001b[39;00m \u001b[39mgoogle\u001b[39;00m\u001b[39m.\u001b[39;00m\u001b[39mcolab\u001b[39;00m \u001b[39mimport\u001b[39;00m drive\n\u001b[1;32m      <a href='vscode-notebook-cell:/home/david/code/mio/python-ml-course/notebooks/T2%20-%202%20-%20Data%20Cleaning%20-%20Funciones%20de%20distribuci%C3%B3n%20de%20probabilidad-Colab.ipynb#ch0000002?line=1'>2</a>\u001b[0m drive\u001b[39m.\u001b[39mmount(\u001b[39m'\u001b[39m\u001b[39m/content/drive\u001b[39m\u001b[39m'\u001b[39m)\n",
      "\u001b[0;31mModuleNotFoundError\u001b[0m: No module named 'google.colab'"
     ]
    }
   ],
   "source": [
    "from google.colab import drive\n",
    "drive.mount('/content/drive')"
   ]
  },
  {
   "cell_type": "code",
   "execution_count": 5,
   "metadata": {
    "colab": {},
    "colab_type": "code",
    "id": "24f0E2tZ_6tk"
   },
   "outputs": [],
   "source": [
    "import numpy as np\n",
    "import matplotlib.pyplot as plt\n",
    "import pandas as pd"
   ]
  },
  {
   "cell_type": "code",
   "execution_count": null,
   "metadata": {
    "colab": {},
    "colab_type": "code",
    "id": "lXlMO8RS_6tp"
   },
   "outputs": [],
   "source": [
    "a = 1\n",
    "b = 100\n",
    "n = 1000000\n",
    "data = np.random.uniform(a, b, n)"
   ]
  },
  {
   "cell_type": "code",
   "execution_count": null,
   "metadata": {
    "colab": {
     "base_uri": "https://localhost:8080/",
     "height": 367
    },
    "colab_type": "code",
    "id": "tiC5WseY_6tt",
    "outputId": "b0abc9de-891c-4789-f4d5-42f4dc86c5a8"
   },
   "outputs": [
    {
     "data": {
      "text/plain": [
       "(array([100219.,  99664., 100096.,  99826., 100078., 100598.,  99562.,\n",
       "        100101.,  99596., 100260.]),\n",
       " array([ 1.00019609, 10.90016559, 20.80013509, 30.70010458, 40.60007408,\n",
       "        50.50004358, 60.40001307, 70.29998257, 80.19995207, 90.09992157,\n",
       "        99.99989106]),\n",
       " <a list of 10 Patch objects>)"
      ]
     },
     "execution_count": 4,
     "metadata": {
      "tags": []
     },
     "output_type": "execute_result"
    },
    {
     "data": {
      "image/png": "[encoded data removed]",
      "text/plain": [
       "<Figure size 432x288 with 1 Axes>"
      ]
     },
     "metadata": {
      "needs_background": "light",
      "tags": []
     },
     "output_type": "display_data"
    }
   ],
   "source": [
    "%matplotlib inline\n",
    "plt.hist(data)"
   ]
  },
  {
   "cell_type": "markdown",
   "metadata": {
    "colab_type": "text",
    "id": "XubDFO_f_6tx"
   },
   "source": [
    "## Distribución Normal"
   ]
  },
  {
   "cell_type": "code",
   "execution_count": null,
   "metadata": {
    "colab": {},
    "colab_type": "code",
    "id": "X1N2_WO1_6tx"
   },
   "outputs": [],
   "source": [
    "data = np.random.randn(1000000)"
   ]
  },
  {
   "cell_type": "code",
   "execution_count": null,
   "metadata": {
    "colab": {
     "base_uri": "https://localhost:8080/",
     "height": 295
    },
    "colab_type": "code",
    "id": "qhOyLRGN_6tz",
    "outputId": "459205ba-9d27-4da8-ac42-1a03c499bd39"
   },
   "outputs": [
    {
     "data": {
      "text/plain": [
       "[<matplotlib.lines.Line2D at 0x7f85136a29e8>]"
      ]
     },
     "execution_count": 6,
     "metadata": {
      "tags": []
     },
     "output_type": "execute_result"
    },
    {
     "data": {
      "image/png": "[encoded data removed]",
      "text/plain": [
       "<Figure size 432x288 with 1 Axes>"
      ]
     },
     "metadata": {
      "needs_background": "light",
      "tags": []
     },
     "output_type": "display_data"
    }
   ],
   "source": [
    "x = range(1,1000001)\n",
    "plt.plot(x, data)"
   ]
  },
  {
   "cell_type": "code",
   "execution_count": null,
   "metadata": {
    "colab": {
     "base_uri": "https://localhost:8080/",
     "height": 367
    },
    "colab_type": "code",
    "id": "UnsfVULW_6t1",
    "outputId": "1631f469-3f20-4b50-af70-d5a1c4931ecb"
   },
   "outputs": [
    {
     "data": {
      "text/plain": [
       "(array([1.10000e+02, 3.40700e+03, 3.83800e+04, 1.84609e+05, 3.64728e+05,\n",
       "        2.95298e+05, 9.92620e+04, 1.34940e+04, 6.98000e+02, 1.40000e+01]),\n",
       " array([-4.67212058, -3.69181253, -2.71150449, -1.73119645, -0.75088841,\n",
       "         0.22941963,  1.20972767,  2.19003571,  3.17034375,  4.15065179,\n",
       "         5.13095983]),\n",
       " <a list of 10 Patch objects>)"
      ]
     },
     "execution_count": 7,
     "metadata": {
      "tags": []
     },
     "output_type": "execute_result"
    },
    {
     "data": {
      "image/png": "[encoded data removed]",
      "text/plain": [
       "<Figure size 432x288 with 1 Axes>"
      ]
     },
     "metadata": {
      "needs_background": "light",
      "tags": []
     },
     "output_type": "display_data"
    }
   ],
   "source": [
    "%matplotlib inline\n",
    "plt.hist(data)"
   ]
  },
  {
   "cell_type": "code",
   "execution_count": null,
   "metadata": {
    "colab": {
     "base_uri": "https://localhost:8080/",
     "height": 295
    },
    "colab_type": "code",
    "id": "XdW96vvx_6t3",
    "outputId": "a1f36bac-4ba7-495d-ecd3-56f1ee5c2d7d"
   },
   "outputs": [
    {
     "data": {
      "text/plain": [
       "[<matplotlib.lines.Line2D at 0x7f8511e4d240>]"
      ]
     },
     "execution_count": 8,
     "metadata": {
      "tags": []
     },
     "output_type": "execute_result"
    },
    {
     "data": {
      "image/png": "[encoded data removed]",
      "text/plain": [
       "<Figure size 432x288 with 1 Axes>"
      ]
     },
     "metadata": {
      "needs_background": "light",
      "tags": []
     },
     "output_type": "display_data"
    }
   ],
   "source": [
    "plt.plot(x,sorted(data))"
   ]
  },
  {
   "cell_type": "code",
   "execution_count": null,
   "metadata": {
    "colab": {
     "base_uri": "https://localhost:8080/",
     "height": 368
    },
    "colab_type": "code",
    "id": "QQZ1SxuG_6t5",
    "outputId": "8bbe5f6f-ab4b-4b71-88b9-fd3960af2cb1"
   },
   "outputs": [
    {
     "data": {
      "text/plain": [
       "(array([  10.,   89.,  466., 1766., 2896., 2861., 1414.,  429.,   65.,\n",
       "           4.]),\n",
       " array([-4.24623314, -2.2667752 , -0.28731726,  1.69214068,  3.67159862,\n",
       "         5.65105656,  7.6305145 ,  9.60997244, 11.58943037, 13.56888831,\n",
       "        15.54834625]),\n",
       " <a list of 10 Patch objects>)"
      ]
     },
     "execution_count": 9,
     "metadata": {
      "tags": []
     },
     "output_type": "execute_result"
    },
    {
     "data": {
      "image/png": "[encoded data removed]",
      "text/plain": [
       "<Figure size 432x288 with 1 Axes>"
      ]
     },
     "metadata": {
      "needs_background": "light",
      "tags": []
     },
     "output_type": "display_data"
    }
   ],
   "source": [
    "mu = 5.5\n",
    "sd = 2.5\n",
    "Z_10000 = np.random.randn(10000)\n",
    "data = mu + sd * Z_10000 # Z = (X - mu) / sd -> N(0,1), X = mu + sd * Z\n",
    "plt.hist(data)"
   ]
  },
  {
   "cell_type": "code",
   "execution_count": null,
   "metadata": {
    "colab": {
     "base_uri": "https://localhost:8080/",
     "height": 51
    },
    "colab_type": "code",
    "id": "n8siHqnN_6t6",
    "outputId": "9aeff760-7b7d-4196-d02d-658c2150d85f"
   },
   "outputs": [
    {
     "data": {
      "text/plain": [
       "array([[ 0.00239305,  0.66424699, -0.46608439, -2.06345436],\n",
       "       [ 0.10321101,  0.10132709, -0.70695038, -0.87042236]])"
      ]
     },
     "execution_count": 10,
     "metadata": {
      "tags": []
     },
     "output_type": "execute_result"
    }
   ],
   "source": [
    "data = np.random.randn(2,4)\n",
    "data"
   ]
  },
  {
   "cell_type": "markdown",
   "metadata": {
    "colab_type": "text",
    "id": "qirIn8au_6t8"
   },
   "source": [
    "## La simulación de Monte Carlo"
   ]
  },
  {
   "cell_type": "markdown",
   "metadata": {
    "colab_type": "text",
    "id": "s4ySxEBn_6t8"
   },
   "source": [
    "* Generamos dos números aleatorios uniforme x e y entre 0 y 1 en total 1000 veces.\n",
    "* Calcularemos $z = x^2 + y^2$:\n",
    "    * Si $z < 1 \\rightarrow$ estamos dentro del círculo.\n",
    "    * Si $z \\geq 1 \\rightarrow$ estamos fuera del círculo.\n",
    "* Calculamos el número total de veces que están dentro del círculo y lo dividimos entre el número total de intentos para obtener una aproximación de la probabilidad de caer dentro del círculo.\n",
    "* Usamos dicha probabilidad para aproximar el valor de π.\n",
    "* Repetimos el experimento un número suficiente de veces (por ejemplo 100), para obtener (100) diferentes aproximaciones de π. \n",
    "* Calculamos el promedio de los 100 experimentos anteriores para dar un valor final de π.\n",
    "    "
   ]
  },
  {
   "cell_type": "code",
   "execution_count": 8,
   "metadata": {
    "colab": {},
    "colab_type": "code",
    "id": "IxAP8lvL_6t_"
   },
   "outputs": [],
   "source": [
    "def pi_montecarlo(n, n_exp):\n",
    "    pi_avg = 0\n",
    "    pi_value_list = []\n",
    "    for i in range(n_exp):\n",
    "        value = 0\n",
    "        x = np.random.uniform(0,1,n).tolist()\n",
    "        y = np.random.uniform(0,1,n).tolist()\n",
    "        for j in range(n):\n",
    "            z = np.sqrt(x[j] * x[j] + y[j] * y[j])\n",
    "            if z<=1:\n",
    "                value += 1\n",
    "        float_value = float(value)\n",
    "        pi_value = float_value * 4 / n\n",
    "        pi_value_list.append(pi_value)\n",
    "        pi_avg += pi_value\n",
    "\n",
    "    pi = pi_avg/n_exp\n",
    "\n",
    "    print(pi)\n",
    "    fig = plt.plot(pi_value_list)\n",
    "    return (pi, fig)"
   ]
  },
  {
   "cell_type": "code",
   "execution_count": 10,
   "metadata": {
    "colab": {
     "base_uri": "https://localhost:8080/",
     "height": 301
    },
    "colab_type": "code",
    "id": "36fV9Wf9_6uA",
    "outputId": "472dd2bc-a99d-4d73-cb97-5ff12e9220c8"
   },
   "outputs": [
    {
     "name": "stdout",
     "output_type": "stream",
     "text": [
      "7843\n",
      "7843.0\n",
      "7847\n",
      "7847.0\n",
      "7822\n",
      "7822.0\n",
      "7890\n",
      "7890.0\n",
      "7817\n",
      "7817.0\n",
      "7833\n",
      "7833.0\n",
      "7864\n",
      "7864.0\n",
      "7839\n",
      "7839.0\n",
      "7754\n",
      "7754.0\n",
      "7830\n",
      "7830.0\n",
      "7831\n",
      "7831.0\n",
      "7877\n",
      "7877.0\n",
      "7884\n",
      "7884.0\n",
      "7814\n",
      "7814.0\n",
      "7853\n",
      "7853.0\n",
      "7849\n",
      "7849.0\n",
      "7775\n",
      "7775.0\n",
      "7845\n",
      "7845.0\n",
      "7869\n",
      "7869.0\n",
      "7882\n",
      "7882.0\n",
      "7886\n",
      "7886.0\n",
      "7910\n",
      "7910.0\n",
      "7793\n",
      "7793.0\n",
      "7848\n",
      "7848.0\n",
      "7865\n",
      "7865.0\n",
      "7826\n",
      "7826.0\n",
      "7841\n",
      "7841.0\n",
      "7863\n",
      "7863.0\n",
      "7872\n",
      "7872.0\n",
      "7917\n",
      "7917.0\n",
      "7823\n",
      "7823.0\n",
      "7816\n",
      "7816.0\n",
      "7949\n",
      "7949.0\n",
      "7886\n",
      "7886.0\n",
      "7859\n",
      "7859.0\n",
      "7849\n",
      "7849.0\n",
      "7807\n",
      "7807.0\n",
      "7852\n",
      "7852.0\n",
      "7842\n",
      "7842.0\n",
      "7907\n",
      "7907.0\n",
      "7846\n",
      "7846.0\n",
      "7849\n",
      "7849.0\n",
      "7826\n",
      "7826.0\n",
      "7810\n",
      "7810.0\n",
      "7860\n",
      "7860.0\n",
      "7901\n",
      "7901.0\n",
      "7799\n",
      "7799.0\n",
      "7896\n",
      "7896.0\n",
      "7851\n",
      "7851.0\n",
      "7873\n",
      "7873.0\n",
      "7822\n",
      "7822.0\n",
      "7898\n",
      "7898.0\n",
      "7917\n",
      "7917.0\n",
      "7870\n",
      "7870.0\n",
      "7894\n",
      "7894.0\n",
      "7843\n",
      "7843.0\n",
      "7812\n",
      "7812.0\n",
      "7801\n",
      "7801.0\n",
      "7921\n",
      "7921.0\n",
      "7808\n",
      "7808.0\n",
      "7841\n",
      "7841.0\n",
      "7865\n",
      "7865.0\n",
      "7907\n",
      "7907.0\n",
      "7841\n",
      "7841.0\n",
      "7845\n",
      "7845.0\n",
      "7881\n",
      "7881.0\n",
      "7888\n",
      "7888.0\n",
      "7849\n",
      "7849.0\n",
      "7867\n",
      "7867.0\n",
      "7864\n",
      "7864.0\n",
      "7914\n",
      "7914.0\n",
      "7872\n",
      "7872.0\n",
      "7833\n",
      "7833.0\n",
      "7876\n",
      "7876.0\n",
      "7794\n",
      "7794.0\n",
      "7873\n",
      "7873.0\n",
      "7796\n",
      "7796.0\n",
      "7876\n",
      "7876.0\n",
      "7840\n",
      "7840.0\n",
      "7830\n",
      "7830.0\n",
      "7880\n",
      "7880.0\n",
      "7805\n",
      "7805.0\n",
      "7865\n",
      "7865.0\n",
      "7839\n",
      "7839.0\n",
      "7871\n",
      "7871.0\n",
      "7825\n",
      "7825.0\n",
      "7887\n",
      "7887.0\n",
      "7762\n",
      "7762.0\n",
      "7912\n",
      "7912.0\n",
      "7827\n",
      "7827.0\n",
      "7877\n",
      "7877.0\n",
      "7900\n",
      "7900.0\n",
      "7877\n",
      "7877.0\n",
      "7852\n",
      "7852.0\n",
      "7868\n",
      "7868.0\n",
      "7774\n",
      "7774.0\n",
      "7879\n",
      "7879.0\n",
      "7833\n",
      "7833.0\n",
      "7859\n",
      "7859.0\n",
      "7865\n",
      "7865.0\n",
      "7838\n",
      "7838.0\n",
      "7908\n",
      "7908.0\n",
      "7895\n",
      "7895.0\n",
      "7898\n",
      "7898.0\n",
      "7861\n",
      "7861.0\n",
      "7856\n",
      "7856.0\n",
      "7827\n",
      "7827.0\n",
      "7855\n",
      "7855.0\n",
      "7854\n",
      "7854.0\n",
      "7795\n",
      "7795.0\n",
      "7801\n",
      "7801.0\n",
      "7894\n",
      "7894.0\n",
      "7910\n",
      "7910.0\n",
      "7844\n",
      "7844.0\n",
      "7886\n",
      "7886.0\n",
      "7861\n",
      "7861.0\n",
      "7925\n",
      "7925.0\n",
      "7816\n",
      "7816.0\n",
      "7847\n",
      "7847.0\n",
      "7869\n",
      "7869.0\n",
      "7892\n",
      "7892.0\n",
      "7866\n",
      "7866.0\n",
      "7875\n",
      "7875.0\n",
      "7857\n",
      "7857.0\n",
      "7925\n",
      "7925.0\n",
      "7863\n",
      "7863.0\n",
      "7807\n",
      "7807.0\n",
      "7890\n",
      "7890.0\n",
      "7871\n",
      "7871.0\n",
      "7834\n",
      "7834.0\n",
      "7816\n",
      "7816.0\n",
      "7869\n",
      "7869.0\n",
      "7824\n",
      "7824.0\n",
      "7833\n",
      "7833.0\n",
      "7900\n",
      "7900.0\n",
      "7748\n",
      "7748.0\n",
      "7855\n",
      "7855.0\n",
      "7814\n",
      "7814.0\n",
      "7867\n",
      "7867.0\n",
      "7835\n",
      "7835.0\n",
      "7910\n",
      "7910.0\n",
      "7781\n",
      "7781.0\n",
      "7801\n",
      "7801.0\n",
      "7872\n",
      "7872.0\n",
      "7825\n",
      "7825.0\n",
      "7838\n",
      "7838.0\n",
      "7839\n",
      "7839.0\n",
      "7890\n",
      "7890.0\n",
      "7890\n",
      "7890.0\n",
      "7827\n",
      "7827.0\n",
      "7854\n",
      "7854.0\n",
      "7868\n",
      "7868.0\n",
      "7893\n",
      "7893.0\n",
      "7940\n",
      "7940.0\n",
      "7861\n",
      "7861.0\n",
      "7879\n",
      "7879.0\n",
      "7871\n",
      "7871.0\n",
      "7853\n",
      "7853.0\n",
      "7816\n",
      "7816.0\n",
      "7868\n",
      "7868.0\n",
      "7856\n",
      "7856.0\n",
      "7878\n",
      "7878.0\n",
      "7929\n",
      "7929.0\n",
      "7821\n",
      "7821.0\n",
      "7868\n",
      "7868.0\n",
      "7846\n",
      "7846.0\n",
      "7918\n",
      "7918.0\n",
      "7854\n",
      "7854.0\n",
      "7903\n",
      "7903.0\n",
      "7833\n",
      "7833.0\n",
      "7881\n",
      "7881.0\n",
      "7861\n",
      "7861.0\n",
      "7833\n",
      "7833.0\n",
      "7827\n",
      "7827.0\n",
      "7756\n",
      "7756.0\n",
      "7805\n",
      "7805.0\n",
      "7865\n",
      "7865.0\n",
      "7807\n",
      "7807.0\n",
      "7947\n",
      "7947.0\n",
      "7807\n",
      "7807.0\n",
      "7848\n",
      "7848.0\n",
      "7847\n",
      "7847.0\n",
      "7867\n",
      "7867.0\n",
      "7830\n",
      "7830.0\n",
      "7829\n",
      "7829.0\n",
      "7788\n",
      "7788.0\n",
      "7814\n",
      "7814.0\n",
      "7862\n",
      "7862.0\n",
      "7838\n",
      "7838.0\n",
      "7875\n",
      "7875.0\n",
      "7836\n",
      "7836.0\n",
      "7795\n",
      "7795.0\n",
      "7764\n",
      "7764.0\n",
      "7932\n",
      "7932.0\n",
      "7955\n",
      "7955.0\n",
      "7879\n",
      "7879.0\n",
      "7856\n",
      "7856.0\n",
      "7854\n",
      "7854.0\n",
      "7833\n",
      "7833.0\n",
      "7890\n",
      "7890.0\n",
      "3.1417580000000003\n"
     ]
    },
    {
     "data": {
      "text/plain": [
       "(3.1417580000000003, [<matplotlib.lines.Line2D at 0x7f083c971cc0>])"
      ]
     },
     "execution_count": 10,
     "metadata": {},
     "output_type": "execute_result"
    },
    {
     "data": {
      "image/png": "[encoded data removed]",
      "text/plain": [
       "<Figure size 432x288 with 1 Axes>"
      ]
     },
     "metadata": {
      "needs_background": "light"
     },
     "output_type": "display_data"
    }
   ],
   "source": [
    "pi_montecarlo(10000, 200)"
   ]
  },
  {
   "cell_type": "markdown",
   "metadata": {
    "colab_type": "text",
    "id": "T367QBnb_6uB"
   },
   "source": [
    "### Dummy Data Sets"
   ]
  },
  {
   "cell_type": "code",
   "execution_count": null,
   "metadata": {
    "colab": {},
    "colab_type": "code",
    "id": "Eu_1AXII_6uC"
   },
   "outputs": [],
   "source": [
    "n = 1000000\n",
    "data = pd.DataFrame(\n",
    "    {\n",
    "        'A' : np.random.randn(n),\n",
    "        'B' : 1.5 + 2.5 * np.random.randn(n),\n",
    "        'C' : np.random.uniform(5, 32, n)\n",
    "    }\n",
    ")"
   ]
  },
  {
   "cell_type": "code",
   "execution_count": null,
   "metadata": {
    "colab": {
     "base_uri": "https://localhost:8080/",
     "height": 297
    },
    "colab_type": "code",
    "id": "BvB2sFTs_6uD",
    "outputId": "555a43d1-bee1-467f-8154-11a0b9efea82"
   },
   "outputs": [
    {
     "data": {
      "text/html": [
       "<div>\n",
       "<style scoped>\n",
       "    .dataframe tbody tr th:only-of-type {\n",
       "        vertical-align: middle;\n",
       "    }\n",
       "\n",
       "    .dataframe tbody tr th {\n",
       "        vertical-align: top;\n",
       "    }\n",
       "\n",
       "    .dataframe thead th {\n",
       "        text-align: right;\n",
       "    }\n",
       "</style>\n",
       "<table border=\"1\" class=\"dataframe\">\n",
       "  <thead>\n",
       "    <tr style=\"text-align: right;\">\n",
       "      <th></th>\n",
       "      <th>A</th>\n",
       "      <th>B</th>\n",
       "      <th>C</th>\n",
       "    </tr>\n",
       "  </thead>\n",
       "  <tbody>\n",
       "    <tr>\n",
       "      <th>count</th>\n",
       "      <td>1000000.000000</td>\n",
       "      <td>1000000.000000</td>\n",
       "      <td>1000000.000000</td>\n",
       "    </tr>\n",
       "    <tr>\n",
       "      <th>mean</th>\n",
       "      <td>0.002164</td>\n",
       "      <td>1.499644</td>\n",
       "      <td>18.508191</td>\n",
       "    </tr>\n",
       "    <tr>\n",
       "      <th>std</th>\n",
       "      <td>0.999902</td>\n",
       "      <td>2.501756</td>\n",
       "      <td>7.794876</td>\n",
       "    </tr>\n",
       "    <tr>\n",
       "      <th>min</th>\n",
       "      <td>-4.614127</td>\n",
       "      <td>-11.344276</td>\n",
       "      <td>5.000005</td>\n",
       "    </tr>\n",
       "    <tr>\n",
       "      <th>25%</th>\n",
       "      <td>-0.673665</td>\n",
       "      <td>-0.187840</td>\n",
       "      <td>11.749997</td>\n",
       "    </tr>\n",
       "    <tr>\n",
       "      <th>50%</th>\n",
       "      <td>0.002129</td>\n",
       "      <td>1.502898</td>\n",
       "      <td>18.506363</td>\n",
       "    </tr>\n",
       "    <tr>\n",
       "      <th>75%</th>\n",
       "      <td>0.678266</td>\n",
       "      <td>3.187172</td>\n",
       "      <td>25.261393</td>\n",
       "    </tr>\n",
       "    <tr>\n",
       "      <th>max</th>\n",
       "      <td>4.553337</td>\n",
       "      <td>13.301662</td>\n",
       "      <td>31.999969</td>\n",
       "    </tr>\n",
       "  </tbody>\n",
       "</table>\n",
       "</div>"
      ],
      "text/plain": [
       "                    A               B               C\n",
       "count  1000000.000000  1000000.000000  1000000.000000\n",
       "mean         0.002164        1.499644       18.508191\n",
       "std          0.999902        2.501756        7.794876\n",
       "min         -4.614127      -11.344276        5.000005\n",
       "25%         -0.673665       -0.187840       11.749997\n",
       "50%          0.002129        1.502898       18.506363\n",
       "75%          0.678266        3.187172       25.261393\n",
       "max          4.553337       13.301662       31.999969"
      ]
     },
     "execution_count": 14,
     "metadata": {
      "tags": []
     },
     "output_type": "execute_result"
    }
   ],
   "source": [
    "data.describe()"
   ]
  },
  {
   "cell_type": "code",
   "execution_count": null,
   "metadata": {
    "colab": {
     "base_uri": "https://localhost:8080/",
     "height": 367
    },
    "colab_type": "code",
    "id": "1GCmP9H6_6uE",
    "outputId": "389e26c7-7030-4d80-b48a-a360080b878c"
   },
   "outputs": [
    {
     "data": {
      "text/plain": [
       "(array([1.22000e+02, 2.50800e+03, 2.81180e+04, 1.40963e+05, 3.15165e+05,\n",
       "        3.24594e+05, 1.52739e+05, 3.25730e+04, 3.09000e+03, 1.28000e+02]),\n",
       " array([-4.61412738, -3.69738095, -2.78063452, -1.86388809, -0.94714166,\n",
       "        -0.03039522,  0.88635121,  1.80309764,  2.71984407,  3.6365905 ,\n",
       "         4.55333693]),\n",
       " <a list of 10 Patch objects>)"
      ]
     },
     "execution_count": 15,
     "metadata": {
      "tags": []
     },
     "output_type": "execute_result"
    },
    {
     "data": {
      "image/png": "[encoded data removed]",
      "text/plain": [
       "<Figure size 432x288 with 1 Axes>"
      ]
     },
     "metadata": {
      "needs_background": "light",
      "tags": []
     },
     "output_type": "display_data"
    }
   ],
   "source": [
    "plt.hist(data[\"A\"])"
   ]
  },
  {
   "cell_type": "code",
   "execution_count": null,
   "metadata": {
    "colab": {
     "base_uri": "https://localhost:8080/",
     "height": 367
    },
    "colab_type": "code",
    "id": "N9nUkcxA_6uF",
    "outputId": "e9fae6ec-8936-4406-e6c4-c36075e781f3"
   },
   "outputs": [
    {
     "data": {
      "text/plain": [
       "(array([1.20000e+01, 8.29000e+02, 1.39770e+04, 1.01506e+05, 3.00478e+05,\n",
       "        3.64624e+05, 1.79885e+05, 3.57100e+04, 2.90300e+03, 7.60000e+01]),\n",
       " array([-11.34427637,  -8.87968257,  -6.41508878,  -3.95049498,\n",
       "         -1.48590119,   0.9786926 ,   3.4432864 ,   5.90788019,\n",
       "          8.37247399,  10.83706778,  13.30166157]),\n",
       " <a list of 10 Patch objects>)"
      ]
     },
     "execution_count": 16,
     "metadata": {
      "tags": []
     },
     "output_type": "execute_result"
    },
    {
     "data": {
      "image/png": "[encoded data removed]",
      "text/plain": [
       "<Figure size 432x288 with 1 Axes>"
      ]
     },
     "metadata": {
      "needs_background": "light",
      "tags": []
     },
     "output_type": "display_data"
    }
   ],
   "source": [
    "plt.hist(data[\"B\"])"
   ]
  },
  {
   "cell_type": "code",
   "execution_count": null,
   "metadata": {
    "colab": {
     "base_uri": "https://localhost:8080/",
     "height": 367
    },
    "colab_type": "code",
    "id": "W1Y5s-qY_6uG",
    "outputId": "8078d044-b46c-4183-b68e-0a75194160b3"
   },
   "outputs": [
    {
     "data": {
      "text/plain": [
       "(array([ 99574., 100661.,  99456.,  99788., 100310.,  99741.,  99869.,\n",
       "        100111., 100293., 100197.]),\n",
       " array([ 5.00000455,  7.70000101, 10.39999746, 13.09999392, 15.79999037,\n",
       "        18.49998682, 21.19998328, 23.89997973, 26.59997619, 29.29997264,\n",
       "        31.99996909]),\n",
       " <a list of 10 Patch objects>)"
      ]
     },
     "execution_count": 17,
     "metadata": {
      "tags": []
     },
     "output_type": "execute_result"
    },
    {
     "data": {
      "image/png": "[encoded data removed]",
      "text/plain": [
       "<Figure size 432x288 with 1 Axes>"
      ]
     },
     "metadata": {
      "needs_background": "light",
      "tags": []
     },
     "output_type": "display_data"
    }
   ],
   "source": [
    "plt.hist(data[\"C\"])"
   ]
  },
  {
   "cell_type": "code",
   "execution_count": null,
   "metadata": {
    "colab": {},
    "colab_type": "code",
    "id": "KPDL3dga_6uH"
   },
   "outputs": [],
   "source": [
    "data = pd.read_csv(\"/content/drive/My Drive/Curso Machine Learning con Python/datasets/customer-churn-model/Customer Churn Model.txt\")"
   ]
  },
  {
   "cell_type": "code",
   "execution_count": null,
   "metadata": {
    "colab": {
     "base_uri": "https://localhost:8080/",
     "height": 204
    },
    "colab_type": "code",
    "id": "HA94Q1BK_6uI",
    "outputId": "404b0219-bace-4f83-ee13-d83c9207d107"
   },
   "outputs": [
    {
     "data": {
      "text/html": [
       "<div>\n",
       "<style scoped>\n",
       "    .dataframe tbody tr th:only-of-type {\n",
       "        vertical-align: middle;\n",
       "    }\n",
       "\n",
       "    .dataframe tbody tr th {\n",
       "        vertical-align: top;\n",
       "    }\n",
       "\n",
       "    .dataframe thead th {\n",
       "        text-align: right;\n",
       "    }\n",
       "</style>\n",
       "<table border=\"1\" class=\"dataframe\">\n",
       "  <thead>\n",
       "    <tr style=\"text-align: right;\">\n",
       "      <th></th>\n",
       "      <th>State</th>\n",
       "      <th>Account Length</th>\n",
       "      <th>Area Code</th>\n",
       "      <th>Phone</th>\n",
       "      <th>Int'l Plan</th>\n",
       "      <th>VMail Plan</th>\n",
       "      <th>VMail Message</th>\n",
       "      <th>Day Mins</th>\n",
       "      <th>Day Calls</th>\n",
       "      <th>Day Charge</th>\n",
       "      <th>Eve Mins</th>\n",
       "      <th>Eve Calls</th>\n",
       "      <th>Eve Charge</th>\n",
       "      <th>Night Mins</th>\n",
       "      <th>Night Calls</th>\n",
       "      <th>Night Charge</th>\n",
       "      <th>Intl Mins</th>\n",
       "      <th>Intl Calls</th>\n",
       "      <th>Intl Charge</th>\n",
       "      <th>CustServ Calls</th>\n",
       "      <th>Churn?</th>\n",
       "    </tr>\n",
       "  </thead>\n",
       "  <tbody>\n",
       "    <tr>\n",
       "      <th>0</th>\n",
       "      <td>KS</td>\n",
       "      <td>128</td>\n",
       "      <td>415</td>\n",
       "      <td>382-4657</td>\n",
       "      <td>no</td>\n",
       "      <td>yes</td>\n",
       "      <td>25</td>\n",
       "      <td>265.1</td>\n",
       "      <td>110</td>\n",
       "      <td>45.07</td>\n",
       "      <td>197.4</td>\n",
       "      <td>99</td>\n",
       "      <td>16.78</td>\n",
       "      <td>244.7</td>\n",
       "      <td>91</td>\n",
       "      <td>11.01</td>\n",
       "      <td>10.0</td>\n",
       "      <td>3</td>\n",
       "      <td>2.70</td>\n",
       "      <td>1</td>\n",
       "      <td>False.</td>\n",
       "    </tr>\n",
       "    <tr>\n",
       "      <th>1</th>\n",
       "      <td>OH</td>\n",
       "      <td>107</td>\n",
       "      <td>415</td>\n",
       "      <td>371-7191</td>\n",
       "      <td>no</td>\n",
       "      <td>yes</td>\n",
       "      <td>26</td>\n",
       "      <td>161.6</td>\n",
       "      <td>123</td>\n",
       "      <td>27.47</td>\n",
       "      <td>195.5</td>\n",
       "      <td>103</td>\n",
       "      <td>16.62</td>\n",
       "      <td>254.4</td>\n",
       "      <td>103</td>\n",
       "      <td>11.45</td>\n",
       "      <td>13.7</td>\n",
       "      <td>3</td>\n",
       "      <td>3.70</td>\n",
       "      <td>1</td>\n",
       "      <td>False.</td>\n",
       "    </tr>\n",
       "    <tr>\n",
       "      <th>2</th>\n",
       "      <td>NJ</td>\n",
       "      <td>137</td>\n",
       "      <td>415</td>\n",
       "      <td>358-1921</td>\n",
       "      <td>no</td>\n",
       "      <td>no</td>\n",
       "      <td>0</td>\n",
       "      <td>243.4</td>\n",
       "      <td>114</td>\n",
       "      <td>41.38</td>\n",
       "      <td>121.2</td>\n",
       "      <td>110</td>\n",
       "      <td>10.30</td>\n",
       "      <td>162.6</td>\n",
       "      <td>104</td>\n",
       "      <td>7.32</td>\n",
       "      <td>12.2</td>\n",
       "      <td>5</td>\n",
       "      <td>3.29</td>\n",
       "      <td>0</td>\n",
       "      <td>False.</td>\n",
       "    </tr>\n",
       "    <tr>\n",
       "      <th>3</th>\n",
       "      <td>OH</td>\n",
       "      <td>84</td>\n",
       "      <td>408</td>\n",
       "      <td>375-9999</td>\n",
       "      <td>yes</td>\n",
       "      <td>no</td>\n",
       "      <td>0</td>\n",
       "      <td>299.4</td>\n",
       "      <td>71</td>\n",
       "      <td>50.90</td>\n",
       "      <td>61.9</td>\n",
       "      <td>88</td>\n",
       "      <td>5.26</td>\n",
       "      <td>196.9</td>\n",
       "      <td>89</td>\n",
       "      <td>8.86</td>\n",
       "      <td>6.6</td>\n",
       "      <td>7</td>\n",
       "      <td>1.78</td>\n",
       "      <td>2</td>\n",
       "      <td>False.</td>\n",
       "    </tr>\n",
       "    <tr>\n",
       "      <th>4</th>\n",
       "      <td>OK</td>\n",
       "      <td>75</td>\n",
       "      <td>415</td>\n",
       "      <td>330-6626</td>\n",
       "      <td>yes</td>\n",
       "      <td>no</td>\n",
       "      <td>0</td>\n",
       "      <td>166.7</td>\n",
       "      <td>113</td>\n",
       "      <td>28.34</td>\n",
       "      <td>148.3</td>\n",
       "      <td>122</td>\n",
       "      <td>12.61</td>\n",
       "      <td>186.9</td>\n",
       "      <td>121</td>\n",
       "      <td>8.41</td>\n",
       "      <td>10.1</td>\n",
       "      <td>3</td>\n",
       "      <td>2.73</td>\n",
       "      <td>3</td>\n",
       "      <td>False.</td>\n",
       "    </tr>\n",
       "  </tbody>\n",
       "</table>\n",
       "</div>"
      ],
      "text/plain": [
       "  State  Account Length  Area Code  ... Intl Charge CustServ Calls  Churn?\n",
       "0    KS             128        415  ...        2.70              1  False.\n",
       "1    OH             107        415  ...        3.70              1  False.\n",
       "2    NJ             137        415  ...        3.29              0  False.\n",
       "3    OH              84        408  ...        1.78              2  False.\n",
       "4    OK              75        415  ...        2.73              3  False.\n",
       "\n",
       "[5 rows x 21 columns]"
      ]
     },
     "execution_count": 19,
     "metadata": {
      "tags": []
     },
     "output_type": "execute_result"
    }
   ],
   "source": [
    "data.head()"
   ]
  },
  {
   "cell_type": "code",
   "execution_count": null,
   "metadata": {
    "colab": {},
    "colab_type": "code",
    "id": "hN3pktK9_6uJ"
   },
   "outputs": [],
   "source": [
    "colum_names = data.columns.values.tolist()"
   ]
  },
  {
   "cell_type": "code",
   "execution_count": null,
   "metadata": {
    "colab": {
     "base_uri": "https://localhost:8080/",
     "height": 34
    },
    "colab_type": "code",
    "id": "321RtjMG_6uK",
    "outputId": "153b3032-42cb-42da-ee53-df9aa52d72a4"
   },
   "outputs": [
    {
     "data": {
      "text/plain": [
       "21"
      ]
     },
     "execution_count": 21,
     "metadata": {
      "tags": []
     },
     "output_type": "execute_result"
    }
   ],
   "source": [
    "a = len(colum_names)\n",
    "a"
   ]
  },
  {
   "cell_type": "code",
   "execution_count": null,
   "metadata": {
    "colab": {},
    "colab_type": "code",
    "id": "gFJSTVfp_6uL"
   },
   "outputs": [],
   "source": [
    "new_data = pd.DataFrame(\n",
    "    {\n",
    "        'Column Name': colum_names,\n",
    "        'A' : np.random.randn(a),\n",
    "        'B' : np.random.uniform(0,1,a)\n",
    "    }, index = range(42, 42 + a)\n",
    ")"
   ]
  },
  {
   "cell_type": "code",
   "execution_count": null,
   "metadata": {
    "colab": {
     "base_uri": "https://localhost:8080/",
     "height": 700
    },
    "colab_type": "code",
    "id": "ovmUIoXZ_6uM",
    "outputId": "8baf6056-944f-404d-94e0-b02247d348e3"
   },
   "outputs": [
    {
     "data": {
      "text/html": [
       "<div>\n",
       "<style scoped>\n",
       "    .dataframe tbody tr th:only-of-type {\n",
       "        vertical-align: middle;\n",
       "    }\n",
       "\n",
       "    .dataframe tbody tr th {\n",
       "        vertical-align: top;\n",
       "    }\n",
       "\n",
       "    .dataframe thead th {\n",
       "        text-align: right;\n",
       "    }\n",
       "</style>\n",
       "<table border=\"1\" class=\"dataframe\">\n",
       "  <thead>\n",
       "    <tr style=\"text-align: right;\">\n",
       "      <th></th>\n",
       "      <th>Column Name</th>\n",
       "      <th>A</th>\n",
       "      <th>B</th>\n",
       "    </tr>\n",
       "  </thead>\n",
       "  <tbody>\n",
       "    <tr>\n",
       "      <th>42</th>\n",
       "      <td>State</td>\n",
       "      <td>0.009601</td>\n",
       "      <td>0.571675</td>\n",
       "    </tr>\n",
       "    <tr>\n",
       "      <th>43</th>\n",
       "      <td>Account Length</td>\n",
       "      <td>1.127091</td>\n",
       "      <td>0.203394</td>\n",
       "    </tr>\n",
       "    <tr>\n",
       "      <th>44</th>\n",
       "      <td>Area Code</td>\n",
       "      <td>1.413309</td>\n",
       "      <td>0.426407</td>\n",
       "    </tr>\n",
       "    <tr>\n",
       "      <th>45</th>\n",
       "      <td>Phone</td>\n",
       "      <td>1.335081</td>\n",
       "      <td>0.190180</td>\n",
       "    </tr>\n",
       "    <tr>\n",
       "      <th>46</th>\n",
       "      <td>Int'l Plan</td>\n",
       "      <td>-0.828382</td>\n",
       "      <td>0.156801</td>\n",
       "    </tr>\n",
       "    <tr>\n",
       "      <th>47</th>\n",
       "      <td>VMail Plan</td>\n",
       "      <td>0.608314</td>\n",
       "      <td>0.255236</td>\n",
       "    </tr>\n",
       "    <tr>\n",
       "      <th>48</th>\n",
       "      <td>VMail Message</td>\n",
       "      <td>-1.529998</td>\n",
       "      <td>0.688072</td>\n",
       "    </tr>\n",
       "    <tr>\n",
       "      <th>49</th>\n",
       "      <td>Day Mins</td>\n",
       "      <td>0.463638</td>\n",
       "      <td>0.638551</td>\n",
       "    </tr>\n",
       "    <tr>\n",
       "      <th>50</th>\n",
       "      <td>Day Calls</td>\n",
       "      <td>-0.419050</td>\n",
       "      <td>0.900912</td>\n",
       "    </tr>\n",
       "    <tr>\n",
       "      <th>51</th>\n",
       "      <td>Day Charge</td>\n",
       "      <td>0.180764</td>\n",
       "      <td>0.204704</td>\n",
       "    </tr>\n",
       "    <tr>\n",
       "      <th>52</th>\n",
       "      <td>Eve Mins</td>\n",
       "      <td>-0.569117</td>\n",
       "      <td>0.213367</td>\n",
       "    </tr>\n",
       "    <tr>\n",
       "      <th>53</th>\n",
       "      <td>Eve Calls</td>\n",
       "      <td>-1.260274</td>\n",
       "      <td>0.206531</td>\n",
       "    </tr>\n",
       "    <tr>\n",
       "      <th>54</th>\n",
       "      <td>Eve Charge</td>\n",
       "      <td>0.241916</td>\n",
       "      <td>0.431233</td>\n",
       "    </tr>\n",
       "    <tr>\n",
       "      <th>55</th>\n",
       "      <td>Night Mins</td>\n",
       "      <td>-0.105272</td>\n",
       "      <td>0.562286</td>\n",
       "    </tr>\n",
       "    <tr>\n",
       "      <th>56</th>\n",
       "      <td>Night Calls</td>\n",
       "      <td>-0.788214</td>\n",
       "      <td>0.735034</td>\n",
       "    </tr>\n",
       "    <tr>\n",
       "      <th>57</th>\n",
       "      <td>Night Charge</td>\n",
       "      <td>1.190481</td>\n",
       "      <td>0.578185</td>\n",
       "    </tr>\n",
       "    <tr>\n",
       "      <th>58</th>\n",
       "      <td>Intl Mins</td>\n",
       "      <td>-1.857890</td>\n",
       "      <td>0.029463</td>\n",
       "    </tr>\n",
       "    <tr>\n",
       "      <th>59</th>\n",
       "      <td>Intl Calls</td>\n",
       "      <td>-0.085863</td>\n",
       "      <td>0.238753</td>\n",
       "    </tr>\n",
       "    <tr>\n",
       "      <th>60</th>\n",
       "      <td>Intl Charge</td>\n",
       "      <td>-0.622193</td>\n",
       "      <td>0.324741</td>\n",
       "    </tr>\n",
       "    <tr>\n",
       "      <th>61</th>\n",
       "      <td>CustServ Calls</td>\n",
       "      <td>0.839831</td>\n",
       "      <td>0.839604</td>\n",
       "    </tr>\n",
       "    <tr>\n",
       "      <th>62</th>\n",
       "      <td>Churn?</td>\n",
       "      <td>0.570857</td>\n",
       "      <td>0.642823</td>\n",
       "    </tr>\n",
       "  </tbody>\n",
       "</table>\n",
       "</div>"
      ],
      "text/plain": [
       "       Column Name         A         B\n",
       "42           State  0.009601  0.571675\n",
       "43  Account Length  1.127091  0.203394\n",
       "44       Area Code  1.413309  0.426407\n",
       "45           Phone  1.335081  0.190180\n",
       "46      Int'l Plan -0.828382  0.156801\n",
       "47      VMail Plan  0.608314  0.255236\n",
       "48   VMail Message -1.529998  0.688072\n",
       "49        Day Mins  0.463638  0.638551\n",
       "50       Day Calls -0.419050  0.900912\n",
       "51      Day Charge  0.180764  0.204704\n",
       "52        Eve Mins -0.569117  0.213367\n",
       "53       Eve Calls -1.260274  0.206531\n",
       "54      Eve Charge  0.241916  0.431233\n",
       "55      Night Mins -0.105272  0.562286\n",
       "56     Night Calls -0.788214  0.735034\n",
       "57    Night Charge  1.190481  0.578185\n",
       "58       Intl Mins -1.857890  0.029463\n",
       "59      Intl Calls -0.085863  0.238753\n",
       "60     Intl Charge -0.622193  0.324741\n",
       "61  CustServ Calls  0.839831  0.839604\n",
       "62          Churn?  0.570857  0.642823"
      ]
     },
     "execution_count": 23,
     "metadata": {
      "tags": []
     },
     "output_type": "execute_result"
    }
   ],
   "source": [
    "new_data"
   ]
  },
  {
   "cell_type": "code",
   "execution_count": null,
   "metadata": {
    "colab": {},
    "colab_type": "code",
    "id": "97ZGkX3z_6uN"
   },
   "outputs": [],
   "source": []
  }
 ],
 "metadata": {
  "colab": {
   "include_colab_link": true,
   "name": "T2 - 2 - Data Cleaning - Funciones de distribución de probabilidad.ipynb",
   "provenance": []
  },
  "kernelspec": {
   "display_name": "Python 3.10.4 64-bit",
   "language": "python",
   "name": "python3"
  },
  "language_info": {
   "codemirror_mode": {
    "name": "ipython",
    "version": 3
   },
   "file_extension": ".py",
   "mimetype": "text/x-python",
   "name": "python",
   "nbconvert_exporter": "python",
   "pygments_lexer": "ipython3",
   "version": "3.10.4"
  },
  "vscode": {
   "interpreter": {
    "hash": "916dbcbb3f70747c44a77c7bcd40155683ae19c65e1c03b4aa3499c5328201f1"
   }
  }
 },
 "nbformat": 4,
 "nbformat_minor": 0
}
